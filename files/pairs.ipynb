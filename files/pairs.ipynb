{
  "metadata": {
    "kernelspec": {
      "name": "python",
      "display_name": "Pyolite",
      "language": "python"
    },
    "language_info": {
      "codemirror_mode": {
        "name": "python",
        "version": 3
      },
      "file_extension": ".py",
      "mimetype": "text/x-python",
      "name": "python",
      "nbconvert_exporter": "python",
      "pygments_lexer": "ipython3",
      "version": "3.8"
    }
  },
  "nbformat_minor": 4,
  "nbformat": 4,
  "cells": [
    {
      "cell_type": "markdown",
      "source": "# Exploring trading pairs\n\nAn example how to filter and plot candles for pair data\n\nWe will\n\n* Download pair and exchange map (\"the trading universe\")\n\n* Filter out SushiSwap pairs\n\n* Download 4 hour candle data for all pairs\n\n* Display top 10 pairs by their 30d volume, nominated in the USD",
      "metadata": {
        "pycharm": {
          "name": "#%% md\n"
        }
      }
    },
    {
      "cell_type": "markdown",
      "source": "First let's import libraries and initialise our dataset client.",
      "metadata": {
        "pycharm": {
          "name": "#%% md\n"
        }
      }
    },
    {
      "cell_type": "code",
      "source": "from tradingstrategy.client import Client\nclient = await Client.create_jupyter_lite_client(api_key=globals().get(\"api_key\",None))\nif client==None:\n    api_key=await input(\"Please enter an api key then re-run the notebook\")\n",
      "metadata": {
        "collapsed": false,
        "pycharm": {
          "name": "#%%\n"
        },
        "jupyter": {
          "outputs_hidden": false
        },
        "trusted": true
      },
      "execution_count": 2,
      "outputs": [
        {
          "name": "stdout",
          "text": "No existing Trading Strategy configuration found in /home/pyodide/.tradingstrategy/settings.json. Making config from keyword parameters.\nTesting out API key: secret-token:tradingstra\nThe server replied accepted our API key and sent the following greetings:\nServer version: 0.1\nMessage of the day: Han shot first\nThe API key setup complete.\n",
          "output_type": "stream"
        }
      ]
    },
    {
      "cell_type": "markdown",
      "source": "Get the map of exchanges and pairs we are working on",
      "metadata": {
        "pycharm": {
          "name": "#%% md\n"
        }
      }
    },
    {
      "cell_type": "code",
      "source": "from tradingstrategy.exchange import ExchangeUniverse\nfrom pyarrow import Table\n\n# Exchange map data is so small it does not need any decompression\nexchange_universe: ExchangeUniverse = client.fetch_exchange_universe()\n\n# Decompress the pair dataset to Python map\ncolumnar_pair_table: Table = client.fetch_pair_universe()\n\nprint(f\"Total pairs {len(columnar_pair_table)}, total exchanges {len(exchange_universe.exchanges)}\")",
      "metadata": {
        "collapsed": false,
        "pycharm": {
          "name": "#%%\n"
        },
        "jupyter": {
          "outputs_hidden": false
        },
        "trusted": true
      },
      "execution_count": 3,
      "outputs": [
        {
          "name": "stderr",
          "text": "Missing HTTP response content-length header for download https://tradingstrategy.ai/api/exchange-universe, headers are ItemsView({'content-type': 'application/json'})\n(Unknown total file size): 1.60MB [00:00, 9.94MB/s]\n100%|##########| 13.2M/13.2M [00:00<00:00, 38.0MB/s]\n",
          "output_type": "stream"
        },
        {
          "name": "stdout",
          "text": "Total pairs 103904, total exchanges 2939\n",
          "output_type": "stream"
        }
      ]
    },
    {
      "cell_type": "markdown",
      "source": "## Filtering pairs trading on Sushiswap\n\nWe are only interested in SushiSwap, the mosh pit of a degens, so filter pairs that are on this exchange only.\nWe specifically pick Sushiswap on Ethereum mainnet,\nas it is the oldest and most active for all Sushiswap instances across EVM blockchains like Polygon, BSC, Fantom, etc.\n\nAlso we do not yet have multichain data on the dataset server, when I am writing this tutorial so...",
      "metadata": {}
    },
    {
      "cell_type": "code",
      "source": "import pandas as pd\nfrom tradingstrategy.chain import ChainId\n\n# Convert PyArrow table to Pandas format to continue working on it\nall_pairs_dataframe = columnar_pair_table.to_pandas()\n\n# Filter down to pairs that only trade on Sushiswap\nsushi_swap = exchange_universe.get_by_chain_and_slug(ChainId.ethereum, \"sushi\")\nsushi_pairs: pd.DataFrame = all_pairs_dataframe.loc[all_pairs_dataframe['exchange_id'] == sushi_swap.exchange_id]\n\nprint(f\"Sushi on Ethereum has {len(sushi_pairs)} pairs\")",
      "metadata": {
        "collapsed": false,
        "pycharm": {
          "name": "#%%\n"
        },
        "jupyter": {
          "outputs_hidden": false
        },
        "trusted": true
      },
      "execution_count": 4,
      "outputs": [
        {
          "name": "stdout",
          "text": "Sushi on Ethereum has 741 pairs\n",
          "output_type": "stream"
        }
      ]
    },
    {
      "cell_type": "markdown",
      "source": "## Calculating combined buy and sell volume\n\nNow let's get pairs sorted out by 30d buy and sell volume",
      "metadata": {
        "pycharm": {
          "name": "#%% md\n"
        }
      }
    },
    {
      "cell_type": "code",
      "source": "# Avoid doing set operations on a Pandas read-only view\n# https://stackoverflow.com/questions/20625582/how-to-deal-with-settingwithcopywarning-in-pandas\nsushi_pairs = sushi_pairs.copy()\ntotal_volume_30d = sushi_pairs[\"buy_volume_30d\"] + sushi_pairs[\"sell_volume_30d\"]\nsushi_pairs[\"total_30d_volume\"] = total_volume_30d\n# Sort by highest volume firs   t\nsushi_pairs = sushi_pairs.sort_values(\"total_30d_volume\", ascending=False)\n\nprint(\"total_30d_volume column sum added\")",
      "metadata": {
        "collapsed": false,
        "pycharm": {
          "name": "#%%\n"
        },
        "jupyter": {
          "outputs_hidden": false
        },
        "trusted": true
      },
      "execution_count": 5,
      "outputs": [
        {
          "name": "stdout",
          "text": "total_30d_volume column sum added\n",
          "output_type": "stream"
        }
      ]
    },
    {
      "cell_type": "markdown",
      "source": "## Output table for top-10 pairs\n\nThen let's see the top 10 pairs we got and choose colums to display.",
      "metadata": {
        "pycharm": {
          "name": "#%% md\n"
        }
      }
    },
    {
      "cell_type": "code",
      "source": "# See Pandas official documentation for table visualisation\n# https://pandas.pydata.org/pandas-docs/stable/user_guide/style.html\n\nimport jinja2\n\noutput = sushi_pairs[[\"base_token_symbol\", \"quote_token_symbol\", \"total_30d_volume\"]].copy()\n\noutput.style.format({\n  'total_30d_volume': lambda val: f'${val:,.2f}',\n})\n\noutput = output.rename(columns={\n    'base_token_symbol': 'Base token',\n    'quote_token_symbol': 'Quote token',\n    'total_30d_volume': 'Volume 30d USD'})\n\ntop_10 = output.head(10)\n\ntop_10.style.format({\n  'Volume 30d USD': lambda val: f'${val:,.2f}',\n}).hide_index()",
      "metadata": {
        "collapsed": false,
        "pycharm": {
          "name": "#%%\n"
        },
        "jupyter": {
          "outputs_hidden": false
        },
        "trusted": true
      },
      "execution_count": 7,
      "outputs": [
        {
          "name": "stderr",
          "text": "<ipython-input-7-3a2b202ca69e>:21: FutureWarning: this method is deprecated in favour of `Styler.hide(axis='index')`\n  }).hide_index()\n",
          "output_type": "stream"
        },
        {
          "execution_count": 7,
          "output_type": "execute_result",
          "data": {
            "text/plain": "<pandas.io.formats.style.Styler at 0xb54b128>",
            "text/html": "<style type=\"text/css\">\n</style>\n<table id=\"T_bd8a5\">\n  <thead>\n    <tr>\n      <th id=\"T_bd8a5_level0_col0\" class=\"col_heading level0 col0\" >Base token</th>\n      <th id=\"T_bd8a5_level0_col1\" class=\"col_heading level0 col1\" >Quote token</th>\n      <th id=\"T_bd8a5_level0_col2\" class=\"col_heading level0 col2\" >Volume 30d USD</th>\n    </tr>\n  </thead>\n  <tbody>\n    <tr>\n      <td id=\"T_bd8a5_row0_col0\" class=\"data row0 col0\" >WETH</td>\n      <td id=\"T_bd8a5_row0_col1\" class=\"data row0 col1\" >USDC</td>\n      <td id=\"T_bd8a5_row0_col2\" class=\"data row0 col2\" >$684,643,584.00</td>\n    </tr>\n    <tr>\n      <td id=\"T_bd8a5_row1_col0\" class=\"data row1 col0\" >LUNA</td>\n      <td id=\"T_bd8a5_row1_col1\" class=\"data row1 col1\" >WETH</td>\n      <td id=\"T_bd8a5_row1_col2\" class=\"data row1 col2\" >$425,134,784.00</td>\n    </tr>\n    <tr>\n      <td id=\"T_bd8a5_row2_col0\" class=\"data row2 col0\" >UST</td>\n      <td id=\"T_bd8a5_row2_col1\" class=\"data row2 col1\" >WETH</td>\n      <td id=\"T_bd8a5_row2_col2\" class=\"data row2 col2\" >$329,412,736.00</td>\n    </tr>\n    <tr>\n      <td id=\"T_bd8a5_row3_col0\" class=\"data row3 col0\" >WETH</td>\n      <td id=\"T_bd8a5_row3_col1\" class=\"data row3 col1\" >USDT</td>\n      <td id=\"T_bd8a5_row3_col2\" class=\"data row3 col2\" >$256,029,712.00</td>\n    </tr>\n    <tr>\n      <td id=\"T_bd8a5_row4_col0\" class=\"data row4 col0\" >SYN</td>\n      <td id=\"T_bd8a5_row4_col1\" class=\"data row4 col1\" >WETH</td>\n      <td id=\"T_bd8a5_row4_col2\" class=\"data row4 col2\" >$216,412,608.00</td>\n    </tr>\n    <tr>\n      <td id=\"T_bd8a5_row5_col0\" class=\"data row5 col0\" >WETH</td>\n      <td id=\"T_bd8a5_row5_col1\" class=\"data row5 col1\" >DAI</td>\n      <td id=\"T_bd8a5_row5_col2\" class=\"data row5 col2\" >$151,029,840.00</td>\n    </tr>\n    <tr>\n      <td id=\"T_bd8a5_row6_col0\" class=\"data row6 col0\" >WETH</td>\n      <td id=\"T_bd8a5_row6_col1\" class=\"data row6 col1\" >UST</td>\n      <td id=\"T_bd8a5_row6_col2\" class=\"data row6 col2\" >$128,074,528.00</td>\n    </tr>\n    <tr>\n      <td id=\"T_bd8a5_row7_col0\" class=\"data row7 col0\" >LDO</td>\n      <td id=\"T_bd8a5_row7_col1\" class=\"data row7 col1\" >WETH</td>\n      <td id=\"T_bd8a5_row7_col2\" class=\"data row7 col2\" >$115,634,976.00</td>\n    </tr>\n    <tr>\n      <td id=\"T_bd8a5_row8_col0\" class=\"data row8 col0\" >SUSHI</td>\n      <td id=\"T_bd8a5_row8_col1\" class=\"data row8 col1\" >WETH</td>\n      <td id=\"T_bd8a5_row8_col2\" class=\"data row8 col2\" >$115,124,440.00</td>\n    </tr>\n    <tr>\n      <td id=\"T_bd8a5_row9_col0\" class=\"data row9 col0\" >JPEG</td>\n      <td id=\"T_bd8a5_row9_col1\" class=\"data row9 col1\" >WETH</td>\n      <td id=\"T_bd8a5_row9_col2\" class=\"data row9 col2\" >$75,895,488.00</td>\n    </tr>\n  </tbody>\n</table>\n"
          },
          "metadata": {}
        }
      ]
    },
    {
      "cell_type": "code",
      "source": "",
      "metadata": {},
      "execution_count": null,
      "outputs": []
    }
  ]
}