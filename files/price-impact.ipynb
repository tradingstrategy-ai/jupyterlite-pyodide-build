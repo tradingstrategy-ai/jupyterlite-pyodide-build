{
  "metadata": {
    "kernelspec": {
      "name": "python",
      "display_name": "Pyolite",
      "language": "python"
    },
    "language_info": {
      "codemirror_mode": {
        "name": "python",
        "version": 3
      },
      "file_extension": ".py",
      "mimetype": "text/x-python",
      "name": "python",
      "nbconvert_exporter": "python",
      "pygments_lexer": "ipython3",
      "version": "3.8"
    }
  },
  "nbformat_minor": 4,
  "nbformat": 4,
  "cells": [
    {
      "cell_type": "markdown",
      "source": "# Price impact estimation\n\nIn this notebook, we show how you can estimate the price impact, also known as slippage, of the simulated historical decentralised exchange trades.\n\nThe slippage is especially important when trading illiquid assets. If your trade profit is 2% but the sell slippage is also 2% you have essentially not made any profit.",
      "metadata": {
        "pycharm": {
          "name": "#%% md\n"
        }
      }
    },
    {
      "cell_type": "markdown",
      "source": "## About price impact and slippage on AMMs\n\nThe slippage is a function of\n\n* Available liquidity\n* Liquidity provider fees\n* Protocol fees\n\nSlippage, also known as price impact, tells how much less your market taker order gets filled because there is not available liquidity.\nFor example, if you are trying to buy 5000 USD worth of BNB token, but there isn't available liquidity\nyou end up with 4980 USD worth of token at the end of the trade. The missing fill is called slippage.\nIt can be expressed as USD value or as percent of the trade amount.\nIlliquid pairs have more slippage than liquid pairs.\n\nIn Uniswap v2 style decentralised exchanges any fees are included in the slippage calculation.\n\nTo understand the liquidity better, [you can interactively view the available liquidity to any trading pair on Trading Strategy website](https://tradingstrategy.ai/trading-view/trading-pairs).\n\nFor more information read more about [XY=K liquidity model and automated market makers](https://tradingstrategy.ai/docs/glossary.html#term-XY-liquidity-model).",
      "metadata": {
        "pycharm": {
          "name": "#%% md\n"
        }
      }
    },
    {
      "cell_type": "markdown",
      "source": "## Getting started\n\nFirst let's import libraries and initialise our Trading Strategy dataset client.",
      "metadata": {
        "pycharm": {
          "name": "#%% md\n"
        }
      }
    },
    {
      "cell_type": "code",
      "source": "from tradingstrategy.client import Client\nclient = await Client.create_jupyter_lite_client(api_key=globals().get(\"api_key\",None))\nif client==None:\n    api_key=await input(\"Please enter an api key then re-run the notebook\")\n",
      "metadata": {
        "collapsed": false,
        "pycharm": {
          "name": "#%%\n"
        },
        "jupyter": {
          "outputs_hidden": false
        },
        "trusted": true
      },
      "execution_count": 1,
      "outputs": [
        {
          "name": "stdout",
          "text": "No existing Trading Strategy configuration found in /home/pyodide/.tradingstrategy/settings.json. Making config from keyword parameters.\nTesting out API key: secret-token:tradingstra\nThe server replied accepted our API key and sent the following greetings:\nServer version: 0.1\nMessage of the day: Han shot first\nThe API key setup complete.\n",
          "output_type": "stream"
        }
      ]
    },
    {
      "cell_type": "markdown",
      "source": "## Fetching datasets\n\nHere we fetch the liquidity data for\n\n* [SUSHI-ETH trading pair](https://tradingstrategy.ai/trading-view/ethereum/sushiswap/sushi-eth)\n* [Trading on Sushiswap](https://tradingstrategy.ai/trading-view/ethereum/sushiswap)\n* [On Ethereum mainnet](https://tradingstrategy.ai/trading-view/ethereum)\n\nTo make this notebook run fast, we are operating on weekly candles (7 days) to keep the\ndownload size of datasets smaller.",
      "metadata": {
        "pycharm": {
          "name": "#%% md\n"
        }
      }
    },
    {
      "cell_type": "code",
      "source": "\nfrom tradingstrategy.chain import ChainId\nfrom tradingstrategy.liquidity import GroupedLiquidityUniverse\nfrom tradingstrategy.pair import PandasPairUniverse\nfrom tradingstrategy.timebucket import TimeBucket\n\nexchange_universe = client.fetch_exchange_universe()\nraw_pairs = client.fetch_pair_universe().to_pandas()\nraw_liquidity_samples = client.fetch_all_liquidity_samples(TimeBucket.d7).to_pandas()\nsushi_swap = exchange_universe.get_by_chain_and_name(ChainId.ethereum, \"sushi\")\n\nsingle_pair_universe = PandasPairUniverse.create_single_pair_universe(raw_pairs,sushi_swap,\"SUSHI\",\"WETH\")\nsushi_eth = single_pair_universe.get_one_pair_from_pandas_universe(sushi_swap.exchange_id, \"SUSHI\", \"WETH\")\nliquidity_universe = GroupedLiquidityUniverse(raw_liquidity_samples)\n\n# Do some test calculations for a single pair\n",
      "metadata": {
        "collapsed": false,
        "pycharm": {
          "name": "#%%\n"
        },
        "jupyter": {
          "outputs_hidden": false
        },
        "trusted": true
      },
      "execution_count": 5,
      "outputs": []
    },
    {
      "cell_type": "markdown",
      "source": "## Querying historical price impact\n\nHere we get the historical price impact what would have been for buying SUSHI for 6000 USD worth of ETH on 1st of June 2021.\n\nUnlike many other examples, or the underlying DEX protocol, here we operate on US Dollar amounts.\n[Any token price is converted to US Dollar through Trading Strategy reference pricing mechanism](https://tradingstrategy.ai/docs/programming/referenceprice.html).\n\nCurrently Trading Strategy does not automatically fill you with the underlying liquidity provider and protocol fees paid with the transaction.\nIn this example, [we use Sushiswap fee model](https://help.sushidocs.com/products/sushiswap-exchange).\nYou need to give these manually for the price estimator for now.",
      "metadata": {}
    },
    {
      "cell_type": "code",
      "source": "import pandas as pd\nfrom IPython.display import display\nfrom tradingstrategy.priceimpact import HistoricalXYPriceImpactCalculator\n\n# SUSHI-WETH started trading around 2020-09-01\ntrading_date = pd.Timestamp(\"2021-06-01\")\ntrade_size = 6000.0  # USD\n\n# See https://help.sushidocs.com/products/sushiswap-exchange\nsushi_lp_fee = 0.0025\nsushi_protocol_fee = 0.0005\n\nprice_impact_calculator = HistoricalXYPriceImpactCalculator(liquidity_universe, lp_fee=sushi_lp_fee, protocol_fee=sushi_protocol_fee)\nimpact = price_impact_calculator.calculate_price_impact(trading_date, sushi_eth.pair_id, trade_size, max_distance=pd.Timedelta(days=7))\n\n# TODO: Show here more details about LP and protocol fees paid\n# after we have confirmed them with an actual DEX smart contract\n\nprint(f\"Trade date: {trading_date}\")\n\nprint(f\"Liquidity at the time of the trade: {impact.available_liquidity:,.2f} USD\")\n\n# we get 4 bps slippage\nprint(f\"Price impact: {impact.price_impact*100:.2} %\")\n\n# We get 5984 USD worth of SUSHI\nprint(f\"Delivered token amount: {impact.delivered:,.2f} USD\")\n",
      "metadata": {
        "collapsed": false,
        "pycharm": {
          "name": "#%%\n"
        },
        "jupyter": {
          "outputs_hidden": false
        },
        "trusted": true
      },
      "execution_count": 6,
      "outputs": [
        {
          "name": "stdout",
          "text": "Trade date: 2021-06-01 00:00:00\nLiquidity at the time of the trade: 259,676,608.00 USD\nPrice impact: 0.044 %\nDelivered token amount: 5,984.61 USD\n",
          "output_type": "stream"
        }
      ]
    },
    {
      "cell_type": "markdown",
      "source": "## Further info and sources of potential errors\n\nBecause the lack of liquidity data, the price impact calculation may fail.\n\n* Trading pair lacks liquidity data\n* There is no liquidity data for a specific timestamp (see `max_distance`) parameter\n\nSee [price impact API documentation](https://tradingstrategy.ai/docs/programming/api/priceimpact.html) for more information.",
      "metadata": {}
    }
  ]
}