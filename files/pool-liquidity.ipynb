{
  "metadata": {
    "kernelspec": {
      "name": "python",
      "display_name": "Pyolite",
      "language": "python"
    },
    "language_info": {
      "codemirror_mode": {
        "name": "python",
        "version": 3
      },
      "file_extension": ".py",
      "mimetype": "text/x-python",
      "name": "python",
      "nbconvert_exporter": "python",
      "pygments_lexer": "ipython3",
      "version": "3.8"
    }
  },
  "nbformat_minor": 4,
  "nbformat": 4,
  "cells": [
    {
      "cell_type": "markdown",
      "source": "# Query pool liquidity on a decentralised exchange\n\nIn this notebook, we show how to get historical (past) available liquidity on [PancakeSwap](https://tradingstrategy.ai/trading-view/binance/pancakeswap-v2) pool.\nIn this example, we use [BNB-BUSD pair](https://tradingstrategy.ai/trading-view/binance/pancakeswap-v2/bnb-busd). We also show how to get the liquidity added and removed during the time period.",
      "metadata": {
        "pycharm": {
          "name": "#%% md\n"
        }
      }
    },
    {
      "cell_type": "markdown",
      "source": "## About liquidity\n\n[Read the introduction blog post for liquidity analysis](https://tradingstrategy.ai/blog/announcing-support-for-liquidity-charts)\nso you understand how the liquidity is presented.",
      "metadata": {
        "pycharm": {
          "name": "#%% md\n"
        }
      }
    },
    {
      "cell_type": "markdown",
      "source": "## Getting started\n\n[Please read and complete the Getting started tutorial first](https://tradingstrategy.ai/docs/programming/examples/getting-started.html).\n\nFirst let's import libraries and initialise our Trading Strategy dataset client.",
      "metadata": {
        "pycharm": {
          "name": "#%% md\n"
        }
      }
    },
    {
      "cell_type": "code",
      "source": "from tradingstrategy.client import Client\nclient = await Client.create_jupyter_lite_client(api_key=globals().get(\"api_key\",None))\nif client==None:\n    api_key=await input(\"Please enter an api key then re-run the notebook\")\n",
      "metadata": {
        "collapsed": false,
        "pycharm": {
          "name": "#%%\n"
        },
        "jupyter": {
          "outputs_hidden": false
        },
        "trusted": true
      },
      "execution_count": 1,
      "outputs": [
        {
          "name": "stdout",
          "text": "No existing Trading Strategy configuration found in /home/pyodide/.tradingstrategy/settings.json. Making config from keyword parameters.\nTesting out API key: secret-token:tradingstra\nThe server replied accepted our API key and sent the following greetings:\nServer version: 0.1\nMessage of the day: Han shot first\nThe API key setup complete.\n",
          "output_type": "stream"
        }
      ]
    },
    {
      "cell_type": "markdown",
      "source": "## Fetching datasets\n\nHere we fetch the liquidity data for\n\n* [BNB-BUSD trading pair](https://tradingstrategy.ai/trading-view/binance/pancakeswap-v2/bnb-busd)\n* [Trading on PancakeSwap](https://tradingstrategy.ai/trading-view/binance/pancakeswap-v2)\n* [On Binance Smart Chain](https://tradingstrategy.ai/trading-view/binance/)\n\nTo make this notebook run fast, we are operating on the historical weekly candles (7 days) to keep the\ndownload size of datasets smaller.",
      "metadata": {
        "pycharm": {
          "name": "#%% md\n"
        }
      }
    },
    {
      "cell_type": "code",
      "source": "\nfrom tradingstrategy.chain import ChainId\nfrom tradingstrategy.liquidity import GroupedLiquidityUniverse\nfrom tradingstrategy.pair import PandasPairUniverse\nfrom tradingstrategy.timebucket import TimeBucket\n\n#: We use weekly liquidity candles for the calculations\nCANDLE_TIMEFRAME = TimeBucket.d7\n\n# Download exchange database\nexchange_universe = client.fetch_exchange_universe()\n\n# Download trading pair database\nraw_pairs = client.fetch_pair_universe().to_pandas()\n\n# Download liquidity OHLC candles\nraw_liquidity_samples = client.fetch_all_liquidity_samples(CANDLE_TIMEFRAME).to_pandas()\n\n# Create a Python helper to manipulate pair liquidity data\nliquidity_universe = GroupedLiquidityUniverse(raw_liquidity_samples)\n\n# Do some test calculations for a single pair\n# Note that PancakeSwap has two different deployments:\n# you most likely want v2\nour_exchange = exchange_universe.get_by_chain_and_slug(ChainId.bsc, \"pancakeswap-v2\")\nassert our_exchange, \"Could not find the DEX\"\n\n# Query the pair metadata.\n# Note that PancakeSwap operates on Wrapped BNB (WBNB), not native BNB token\nbase_token = \"WBNB\"\nquote_token = \"BUSD\"\n\nexchange_id=our_exchange.exchange_id\n\n# filter down the pairs before we put them into the pair universe object\nraw_pairs_filtered=raw_pairs.query(\"(token0_symbol == @base_token) & (token1_symbol == @quote_token) & (exchange_id == @exchange_id)\")\npair_universe=PandasPairUniverse(raw_pairs_filtered)\n\n\nour_pair = pair_universe.get_one_pair_from_pandas_universe(exchange_id,base_token,quote_token,pick_by_highest_vol=True)\nassert our_pair, \"Pair not found\"\n\nprint(f\"Trading pair {base_token}-{quote_token} id is {our_pair.pair_id}, the pool contract address is {our_pair.address}\")",
      "metadata": {
        "collapsed": false,
        "pycharm": {
          "name": "#%%\n"
        },
        "jupyter": {
          "outputs_hidden": false
        },
        "trusted": true
      },
      "execution_count": 25,
      "outputs": [
        {
          "name": "stdout",
          "text": "Trading pair WBNB-BUSD id is 1015916, the pool contract address is 0x58f876857a02d6762e0101bb5c46a8c1ed44dc16\n",
          "output_type": "stream"
        }
      ]
    },
    {
      "cell_type": "markdown",
      "source": "## Querying historical liquidity data\n\nHere we get the historical available liquidity at 2022-01-01.\n\nUnlike many other examples, or the underlying DEX protocol, here we operate on US Dollar amounts.\n[Any token price is converted to US Dollar through Trading Strategy reference pricing mechanism](https://tradingstrategy.ai/docs/programming/referenceprice.html).\n\n[See also XYLiquidity data structure documentation](https://tradingstrategy.ai/docs/programming/api/liquidity.html)\nfor available values.",
      "metadata": {}
    },
    {
      "cell_type": "code",
      "source": "import pandas as pd\n\n# December 2021\nwhen = pd.Timestamp(\"2021-12-01\")\n\nliquidity_samples = liquidity_universe.get_liquidity_samples_by_pair(our_pair.pair_id)\nif liquidity_samples is None:\n    raise AssertionError(f\"The universe does not contain liquidity data for pair {our_pair}\")\n\n# Get all liquidity OHLC past the certain timestamp.\n# Thus, we query the first available liquidity sample *after* the timestamp.\nranged_samples = liquidity_samples[when:]\n\nif len(ranged_samples) == 0:\n    raise AssertionError(f\"Pair {our_pair} had no liquidity before {when}\")\n\n# Get the first sample in the series\n# This presents the liquidity at the first available sampled moment\n# since the timestamp.\nfirst_sample = ranged_samples.iloc[0]\n\n# Convert liquidity from USD to token\ntoken_liquidity = first_sample.open * first_sample.exchange_rate\n\nprint(f\"\"\"\nLiquidity sampled at: {first_sample.timestamp}\nLiquidity sample period: {CANDLE_TIMEFRAME.value}\nLiquidity at the begin: {first_sample.open:,.2f} USD\nLiquidity at the end: {first_sample.close:,.2f} USD\nLiquidity at the begin, expressed as the quote token: {token_liquidity:.4f} {our_pair.quote_token_symbol}\nLiquidity added during the period: {first_sample.add_volume:,.2f} USD\nLiquidity removed during the period: {first_sample.remove_volume:,.2f} USD\n\"\"\")",
      "metadata": {
        "collapsed": false,
        "pycharm": {
          "name": "#%%\n"
        },
        "jupyter": {
          "outputs_hidden": false
        },
        "trusted": true
      },
      "execution_count": 26,
      "outputs": [
        {
          "name": "stdout",
          "text": "\nLiquidity sampled at: 2021-12-06 00:00:00\nLiquidity sample period: 7d\nLiquidity at the begin: 247,629,760.00 USD\nLiquidity at the end: 231,012,064.00 USD\nLiquidity at the begin, expressed as the quote token: 247629760.0000 BUSD\nLiquidity added during the period: 75,168,344.00 USD\nLiquidity removed during the period: 96,860,728.00 USD\n\n",
          "output_type": "stream"
        }
      ]
    },
    {
      "cell_type": "markdown",
      "source": "## Further info and sources of potential errors\n\nSee also [price impact example](https://tradingstrategy.ai/docs/programming/examples/price-impact.html).",
      "metadata": {}
    }
  ]
}