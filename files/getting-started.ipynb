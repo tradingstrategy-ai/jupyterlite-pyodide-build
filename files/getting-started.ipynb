{
  "metadata": {
    "interpreter": {
      "hash": "c96528bb917298a31abef2e197080e6a10eb1352f3e7cf22e3cda1d475017046"
    },
    "kernelspec": {
      "name": "python",
      "display_name": "Pyolite",
      "language": "python"
    },
    "language_info": {
      "codemirror_mode": {
        "name": "python",
        "version": 3
      },
      "file_extension": ".py",
      "mimetype": "text/x-python",
      "name": "python",
      "nbconvert_exporter": "python",
      "pygments_lexer": "ipython3",
      "version": "3.8"
    }
  },
  "nbformat_minor": 4,
  "nbformat": 4,
  "cells": [
    {
      "cell_type": "markdown",
      "source": "# Getting started\n\n## Preface\n\nTo get started you need\n\n* Basic algorithmic trade, finance and quantitave research understanding\n\n* Basic Python understanding\n\n* Basic Jupyter Notebook understanding\n\n* An environment to run Jupyter Notebooks: [Visual Studio Code](https://tradingstrategy.ai/docs/programming/running.html), [Jupyter server or your local computer](https://tradingstrategy.ai/docs/programming/running.html) or a cloud service like Google Colab\n\nIf you are new to these topics please see the [Learn](https://tradingstrategy.ai/docs/programming/learn.html) section for useful links to start learning more.\n\n## API keys\n\nWhen you run the notebook for the first time, you are asked to register an API key for [Trading Strategy dataset download](https://tradingstrategy.ai/trading-view/backtesting).\nYou can also [sign up for the API key on the website](https://tradingstrategy.ai/trading-view/backtesting).\n\n## Quickstart",
      "metadata": {
        "pycharm": {
          "name": "#%% md\n"
        }
      }
    },
    {
      "cell_type": "markdown",
      "source": "Google offers free cloud service to run your notebooks\n\n* Click *Open in Colab* button above\n\n* You need a Google account\n\n* Clicking the *Open in Colab* button on any notebook in this documentation will automatically create you a personal runnable copy on [Google Colaboratory service](https://colab.research.google.com/notebooks/intro.ipynb)\n\n* After the notebook is open on Colab, you need to press *Connect* to allocate a server for yourself and then execute the notebook by choosing *Runtime* > *Run all* from the menu\n\n* This document is displaying the results of the last notebook run. Running the notebook yourself will execute all the cells and update the result of calculations\n\n* The first execution will take around 5 minutes, because",
      "metadata": {
        "pycharm": {
          "name": "#%% md\n"
        }
      }
    },
    {
      "cell_type": "markdown",
      "source": "## Usage\n\nThis is the *Hello World* where we make our first dynamic market analysis.\n\nThe code belows creates a Trading Strategy [API client instance](https://tradingstrategy.ai/docs/programming/api/client.html)\nthat is used to communicate with the dataset server.\n\nIf you do not have an API key saved on the Notebook server yet,\nthis will **prompt you** to create an API key and then saves it for you.\nPlease answer the interactive questions when the notebook is running.",
      "metadata": {
        "pycharm": {
          "name": "#%% md\n"
        }
      }
    },
    {
      "cell_type": "code",
      "source": "from tradingstrategy.client import Client\nclient = await Client.create_jupyter_lite_client(api_key=globals().get(\"api_key\",None))\nif client==None:\n    api_key=await input(\"Please enter an api key then re-run the notebook\")\n",
      "metadata": {
        "tags": [],
        "trusted": true
      },
      "execution_count": 1,
      "outputs": [
        {
          "name": "stdout",
          "text": "No existing Trading Strategy configuration found in /home/pyodide/.tradingstrategy/settings.json. Making config from keyword parameters.\nTesting out API key: secret-token:tradingstra\nThe server replied accepted our API key and sent the following greetings:\nServer version: 0.1\nMessage of the day: Han shot first\nThe API key setup complete.\n",
          "output_type": "stream"
        }
      ]
    },
    {
      "cell_type": "markdown",
      "source": "\nNow when the API key is created and we are connected, we can do some analysis.\nLet's get the top 10 supported exchanges by their 30 days trading volume\nfor [supported tokens](https://tradingstrategy.ai/docs/programming/tracking.html).",
      "metadata": {}
    },
    {
      "cell_type": "code",
      "source": "# Let's log the date when the this notebook was run,\n# as the notebook and its output will be on the website documentation\nimport datetime\nprint(f\"This Jupyter notebook was run and the results captured at {datetime.date.today()}\")",
      "metadata": {
        "collapsed": false,
        "pycharm": {
          "name": "#%%\n"
        },
        "jupyter": {
          "outputs_hidden": false
        },
        "trusted": true
      },
      "execution_count": 2,
      "outputs": [
        {
          "name": "stdout",
          "text": "This Jupyter notebook was run and the results captured at 2022-05-28\n",
          "output_type": "stream"
        }
      ]
    },
    {
      "cell_type": "markdown",
      "source": "Then let's extract some montly statistics from the exchange dataset.",
      "metadata": {
        "pycharm": {
          "name": "#%% md\n"
        }
      }
    },
    {
      "cell_type": "code",
      "source": "from typing import List\nfrom IPython.display import display\nimport pandas as pd\nimport numpy as np\nfrom tradingstrategy.chain import ChainId\nfrom tradingstrategy.exchange import Exchange\n\nuniverse = client.fetch_exchange_universe()\n\n# Have nice type decoration to make the tutorial\n# more readable\nexchanges: List[Exchange] = []\nvolumes: List[float] = []\nchains: List[str] = []\n\n\nfor xchg in universe.get_top_exchanges_by_30d_volume()[0:10]:\n    exchanges.append(xchg.name)\n    # Format volume with the  thousand separator\n    volumes.append(\"{:,.2f}\".format(xchg.vol_30d))\n    # Pull blockchain name for the chain id number from\n    # chain data database\n    chain_id: ChainId = xchg.chain_id\n    chains.append(chain_id.get_name())\n\n# Convert output to Pandas DataFrame object so that\n# notebook can render it as a nice table\ndf = pd.DataFrame({\"Exchange\": exchanges, \"Blockchain\": chains, \"USD Volume 30d\": volumes})\n\n# Index rows starting with one instead of zero\ndf.index = np.arange(1, len(df)+1)\n\n# Show dataframe as HTML table\ndisplay(df)\n\n",
      "metadata": {
        "collapsed": false,
        "pycharm": {
          "name": "#%%\n"
        },
        "jupyter": {
          "outputs_hidden": false
        },
        "trusted": true
      },
      "execution_count": 3,
      "outputs": [
        {
          "name": "stderr",
          "text": "Missing HTTP response content-length header for download https://tradingstrategy.ai/api/exchange-universe, headers are ItemsView({'content-type': 'application/json'})\n(Unknown total file size): 1.60MB [00:00, 11.6MB/s]\n",
          "output_type": "stream"
        },
        {
          "output_type": "display_data",
          "data": {
            "text/plain": "          Exchange           Blockchain     USD Volume 30d\n1   PancakeSwap v2  Binance Smart Chain  15,214,298,786.94\n2       Uniswap v2             Ethereum   5,057,618,227.95\n3           Biswap  Binance Smart Chain   4,127,316,573.21\n4            Sushi             Ethereum   3,934,253,532.01\n5        Quickswap              Polygon   1,343,219,856.98\n6          FSTSwap  Binance Smart Chain     790,992,576.29\n7        GIBX Swap  Binance Smart Chain     632,385,230.76\n8       KnightSwap  Binance Smart Chain     334,127,011.95\n9            Sushi              Polygon     300,955,664.32\n10        ErosSwap  Binance Smart Chain     289,738,565.21",
            "text/html": "<div>\n<style scoped>\n    .dataframe tbody tr th:only-of-type {\n        vertical-align: middle;\n    }\n\n    .dataframe tbody tr th {\n        vertical-align: top;\n    }\n\n    .dataframe thead th {\n        text-align: right;\n    }\n</style>\n<table border=\"1\" class=\"dataframe\">\n  <thead>\n    <tr style=\"text-align: right;\">\n      <th></th>\n      <th>Exchange</th>\n      <th>Blockchain</th>\n      <th>USD Volume 30d</th>\n    </tr>\n  </thead>\n  <tbody>\n    <tr>\n      <th>1</th>\n      <td>PancakeSwap v2</td>\n      <td>Binance Smart Chain</td>\n      <td>15,214,298,786.94</td>\n    </tr>\n    <tr>\n      <th>2</th>\n      <td>Uniswap v2</td>\n      <td>Ethereum</td>\n      <td>5,057,618,227.95</td>\n    </tr>\n    <tr>\n      <th>3</th>\n      <td>Biswap</td>\n      <td>Binance Smart Chain</td>\n      <td>4,127,316,573.21</td>\n    </tr>\n    <tr>\n      <th>4</th>\n      <td>Sushi</td>\n      <td>Ethereum</td>\n      <td>3,934,253,532.01</td>\n    </tr>\n    <tr>\n      <th>5</th>\n      <td>Quickswap</td>\n      <td>Polygon</td>\n      <td>1,343,219,856.98</td>\n    </tr>\n    <tr>\n      <th>6</th>\n      <td>FSTSwap</td>\n      <td>Binance Smart Chain</td>\n      <td>790,992,576.29</td>\n    </tr>\n    <tr>\n      <th>7</th>\n      <td>GIBX Swap</td>\n      <td>Binance Smart Chain</td>\n      <td>632,385,230.76</td>\n    </tr>\n    <tr>\n      <th>8</th>\n      <td>KnightSwap</td>\n      <td>Binance Smart Chain</td>\n      <td>334,127,011.95</td>\n    </tr>\n    <tr>\n      <th>9</th>\n      <td>Sushi</td>\n      <td>Polygon</td>\n      <td>300,955,664.32</td>\n    </tr>\n    <tr>\n      <th>10</th>\n      <td>ErosSwap</td>\n      <td>Binance Smart Chain</td>\n      <td>289,738,565.21</td>\n    </tr>\n  </tbody>\n</table>\n</div>"
          },
          "metadata": {}
        }
      ]
    },
    {
      "cell_type": "markdown",
      "source": "Ta-da - all done! Now you can proceed to [view more complex examples](https://tradingstrategy.ai/docs/programming/index.html#code-examples).\n",
      "metadata": {
        "pycharm": {
          "name": "#%% md\n"
        }
      }
    }
  ]
}